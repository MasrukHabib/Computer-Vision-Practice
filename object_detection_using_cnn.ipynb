{
  "nbformat": 4,
  "nbformat_minor": 0,
  "metadata": {
    "colab": {
      "provenance": []
    },
    "kernelspec": {
      "name": "python3",
      "display_name": "Python 3"
    },
    "language_info": {
      "name": "python"
    }
  },
  "cells": [
    {
      "cell_type": "code",
      "execution_count": 3,
      "metadata": {
        "id": "6poWVMKTG5Mh"
      },
      "outputs": [],
      "source": [
        "import numpy as np\n",
        "import tensorflow as tf\n",
        "from tensorflow.keras import layers\n",
        "import cv2\n",
        "import matplotlib.pyplot as plt\n"
      ]
    },
    {
      "cell_type": "code",
      "source": [
        "# preapre handwritten digits\n",
        "(X_num, y_num), _ = tf.keras.datasets.mnist.load_data()\n",
        "X_num = np.expand_dims(X_num, axis=-1).astype(np.float32) / 255.0\n",
        "grid_size = 16 # image_size / mask_size\n",
        "def make_numbers(X, y):\n",
        "    for _ in range(3):\n",
        "        idx = np.random.randint(len(X_num))\n",
        "        # make digit colorful\n",
        "        number = X_num[idx] @ (np.random.rand(1, 3) + 0.1)\n",
        "        number[number > 0.1] = np.clip(number[number > 0.1], 0.5, 0.8)\n",
        "        # class of digit\n",
        "        kls = y_num[idx]\n",
        "        # random position for digit\n",
        "        px, py = np.random.randint(0, 100), np.random.randint(0, 100)\n",
        "        # digit belong which mask position\n",
        "        mx, my = (px+14) // grid_size, (py+14) // grid_size\n",
        "        channels = y[my][mx]\n",
        "        if channels[0] > 0:\n",
        "            continue\n",
        "        channels[0] = 1.0\n",
        "        channels[1] = px - (mx * grid_size) # x1\n",
        "        channels[2] = py - (my * grid_size) # y1\n",
        "        channels[3] = 28.0 # x2, in this demo image only 28 px as width\n",
        "        channels[4] = 28.0 # y2, in this demo image only 28 px as height\n",
        "        channels[5 + kls] = 1.0\n",
        "        # put digit in X\n",
        "        X[py:py+28, px:px+28] += number\n",
        "def make_data(size=64):\n",
        "    X = np.zeros((size, 128, 128, 3), dtype=np.float32)\n",
        "    y = np.zeros((size, 8, 8, 15), dtype=np.float32)\n",
        "    for i in range(size):\n",
        "        make_numbers(X[i], y[i])\n",
        "        X = np.clip(X, 0.0, 1.0)\n",
        "        return X, y\n",
        "def make_data(size=64):\n",
        "    X = np.zeros((size, 128, 128, 3), dtype=np.float32)\n",
        "    y = np.zeros((size, 8, 8, 15), dtype=np.float32)\n",
        "    for i in range(size):\n",
        "        make_numbers(X[i], y[i])\n",
        "    X = np.clip(X, 0.0, 1.0)\n",
        "    return X, y\n",
        "\n",
        "def get_color_by_probability(p):\n",
        "   if p < 0.3:\n",
        "      return (1., 0., 0.)\n",
        "   if p < 0.7:\n",
        "      return (1., 1., 0.)\n",
        "   return (0., 1., 0.)\n",
        "\n",
        "def show_predict(X, y, threshold=0.1):\n",
        "  X = X.copy()\n",
        "  for mx in range(8):\n",
        "    for my in range(8):\n",
        "        channels = y[my][mx]\n",
        "        prob, x1, y1, x2, y2 = channels[:5]\n",
        "        if prob < threshold:\n",
        "          continue\n",
        "          color = get_color_by_probability(prob)\n",
        "          px, py = (mx * grid_size) + x1, (my * grid_size) + y1\n",
        "          cv2.rectangle(X, (int(px), int(py)), (int(px + x2), int(py + y2)), color, 1)\n",
        "          cv2.rectangle(X, (int(px), int(py - 10)), (int(px + 12), int(py)), color, -1)\n",
        "          kls = np.argmax(channels[5:])\n",
        "          cv2.putText(X, f'{kls}', (int(px + 2), int(py-2)), cv2.FONT_HERSHEY_PLAIN, 0.7, (0.0, 0.0, 0.0))\n",
        "          plt.imshow(X)\n",
        "\n",
        "# test\n",
        "X, y = make_data(size=1)\n",
        "show_predict(X[0], y[0])\n"
      ],
      "metadata": {
        "id": "3UCqZNfGHE-x"
      },
      "execution_count": 4,
      "outputs": []
    },
    {
      "cell_type": "code",
      "source": [
        "x = x_input = layers.Input(shape=(128, 128, 3))\n",
        "x = layers.Conv2D(32, kernel_size=3, padding='same', activation='relu')(x)\n",
        "x = layers.MaxPool2D()(x)\n",
        "x = layers.BatchNormalization()(x) # size: 64x64\n",
        "x = layers.Conv2D(32, kernel_size=3, padding='same', activation='relu')(x)\n",
        "x = layers.BatchNormalization()(x) # size: 64x64\n",
        "x = layers.Conv2D(32, kernel_size=3, padding='same', activation='relu')(x)\n",
        "x = layers.MaxPool2D()(x)\n",
        "\n",
        "x = layers.BatchNormalization()(x) # size: 32x32\n",
        "x = layers.Conv2D(32, kernel_size=3, padding='same', activation='relu')(x)\n",
        "x = layers.MaxPool2D()(x)\n",
        "x = layers.BatchNormalization()(x) # size: 16x16\n",
        "x = layers.Conv2D(32, kernel_size=3, padding='same', activation='relu')(x)\n",
        "x = layers.MaxPool2D()(x)\n",
        "x = layers.BatchNormalization()(x) # size: 8x8x\n",
        "\n",
        "x_prob = layers.Conv2D(1, kernel_size=3, padding='same', activation='sigmoid', name='x_prob')(x)\n",
        "x_boxes = layers.Conv2D(4, kernel_size=3, padding='same', name='x_boxes')(x)\n",
        "x_cls = layers.Conv2D(10, kernel_size=3, padding='same', activation='sigmoid', name='x_cls')(x)\n",
        "\n",
        "gate = tf.where(x_prob > 0.5, tf.ones_like(x_prob), tf.zeros_like(x_prob))\n",
        "x_boxes = x_boxes * gate\n",
        "x_cls = x_cls * gate\n",
        "\n",
        "x = layers.Concatenate()([x_prob, x_boxes, x_cls])\n",
        "model = tf.keras.models.Model(x_input, x)\n",
        "model.summary()\n",
        "\n"
      ],
      "metadata": {
        "colab": {
          "base_uri": "https://localhost:8080/"
        },
        "id": "IQx1IMxhKKEa",
        "outputId": "3d713333-150a-45c5-a8fe-f662a98efdc7"
      },
      "execution_count": 5,
      "outputs": [
        {
          "output_type": "stream",
          "name": "stdout",
          "text": [
            "Model: \"model\"\n",
            "__________________________________________________________________________________________________\n",
            " Layer (type)                Output Shape                 Param #   Connected to                  \n",
            "==================================================================================================\n",
            " input_1 (InputLayer)        [(None, 128, 128, 3)]        0         []                            \n",
            "                                                                                                  \n",
            " conv2d (Conv2D)             (None, 128, 128, 32)         896       ['input_1[0][0]']             \n",
            "                                                                                                  \n",
            " max_pooling2d (MaxPooling2  (None, 64, 64, 32)           0         ['conv2d[0][0]']              \n",
            " D)                                                                                               \n",
            "                                                                                                  \n",
            " batch_normalization (Batch  (None, 64, 64, 32)           128       ['max_pooling2d[0][0]']       \n",
            " Normalization)                                                                                   \n",
            "                                                                                                  \n",
            " conv2d_1 (Conv2D)           (None, 64, 64, 32)           9248      ['batch_normalization[0][0]'] \n",
            "                                                                                                  \n",
            " batch_normalization_1 (Bat  (None, 64, 64, 32)           128       ['conv2d_1[0][0]']            \n",
            " chNormalization)                                                                                 \n",
            "                                                                                                  \n",
            " conv2d_2 (Conv2D)           (None, 64, 64, 32)           9248      ['batch_normalization_1[0][0]'\n",
            "                                                                    ]                             \n",
            "                                                                                                  \n",
            " max_pooling2d_1 (MaxPoolin  (None, 32, 32, 32)           0         ['conv2d_2[0][0]']            \n",
            " g2D)                                                                                             \n",
            "                                                                                                  \n",
            " batch_normalization_2 (Bat  (None, 32, 32, 32)           128       ['max_pooling2d_1[0][0]']     \n",
            " chNormalization)                                                                                 \n",
            "                                                                                                  \n",
            " conv2d_3 (Conv2D)           (None, 32, 32, 32)           9248      ['batch_normalization_2[0][0]'\n",
            "                                                                    ]                             \n",
            "                                                                                                  \n",
            " max_pooling2d_2 (MaxPoolin  (None, 16, 16, 32)           0         ['conv2d_3[0][0]']            \n",
            " g2D)                                                                                             \n",
            "                                                                                                  \n",
            " batch_normalization_3 (Bat  (None, 16, 16, 32)           128       ['max_pooling2d_2[0][0]']     \n",
            " chNormalization)                                                                                 \n",
            "                                                                                                  \n",
            " conv2d_4 (Conv2D)           (None, 16, 16, 32)           9248      ['batch_normalization_3[0][0]'\n",
            "                                                                    ]                             \n",
            "                                                                                                  \n",
            " max_pooling2d_3 (MaxPoolin  (None, 8, 8, 32)             0         ['conv2d_4[0][0]']            \n",
            " g2D)                                                                                             \n",
            "                                                                                                  \n",
            " batch_normalization_4 (Bat  (None, 8, 8, 32)             128       ['max_pooling2d_3[0][0]']     \n",
            " chNormalization)                                                                                 \n",
            "                                                                                                  \n",
            " x_prob (Conv2D)             (None, 8, 8, 1)              289       ['batch_normalization_4[0][0]'\n",
            "                                                                    ]                             \n",
            "                                                                                                  \n",
            " tf.math.greater (TFOpLambd  (None, 8, 8, 1)              0         ['x_prob[0][0]']              \n",
            " a)                                                                                               \n",
            "                                                                                                  \n",
            " tf.ones_like (TFOpLambda)   (None, 8, 8, 1)              0         ['x_prob[0][0]']              \n",
            "                                                                                                  \n",
            " tf.zeros_like (TFOpLambda)  (None, 8, 8, 1)              0         ['x_prob[0][0]']              \n",
            "                                                                                                  \n",
            " x_boxes (Conv2D)            (None, 8, 8, 4)              1156      ['batch_normalization_4[0][0]'\n",
            "                                                                    ]                             \n",
            "                                                                                                  \n",
            " tf.where (TFOpLambda)       (None, 8, 8, 1)              0         ['tf.math.greater[0][0]',     \n",
            "                                                                     'tf.ones_like[0][0]',        \n",
            "                                                                     'tf.zeros_like[0][0]']       \n",
            "                                                                                                  \n",
            " x_cls (Conv2D)              (None, 8, 8, 10)             2890      ['batch_normalization_4[0][0]'\n",
            "                                                                    ]                             \n",
            "                                                                                                  \n",
            " tf.math.multiply (TFOpLamb  (None, 8, 8, 4)              0         ['x_boxes[0][0]',             \n",
            " da)                                                                 'tf.where[0][0]']            \n",
            "                                                                                                  \n",
            " tf.math.multiply_1 (TFOpLa  (None, 8, 8, 10)             0         ['x_cls[0][0]',               \n",
            " mbda)                                                               'tf.where[0][0]']            \n",
            "                                                                                                  \n",
            " concatenate (Concatenate)   (None, 8, 8, 15)             0         ['x_prob[0][0]',              \n",
            "                                                                     'tf.math.multiply[0][0]',    \n",
            "                                                                     'tf.math.multiply_1[0][0]']  \n",
            "                                                                                                  \n",
            "==================================================================================================\n",
            "Total params: 42863 (167.43 KB)\n",
            "Trainable params: 42543 (166.18 KB)\n",
            "Non-trainable params: 320 (1.25 KB)\n",
            "__________________________________________________________________________________________________\n"
          ]
        }
      ]
    },
    {
      "cell_type": "code",
      "source": [
        "idx_p = [0]\n",
        "idx_bb = [1, 2, 3, 4]\n",
        "idx_cls = [5, 6, 7, 8, 9, 10, 11, 12, 13, 14]\n",
        "\n",
        "@tf.function\n",
        "def loss_bb(y_true, y_pred):\n",
        "    y_true = tf.gather(y_true, idx_bb, axis=-1)\n",
        "    y_pred = tf.gather(y_pred, idx_bb, axis=-1)\n",
        "    loss = tf.keras.losses.mean_squared_error(y_true, y_pred)\n",
        "    return tf.reduce_mean(loss[loss > 0.0])\n",
        "\n",
        "@tf.function\n",
        "def loss_p(y_true, y_pred):\n",
        "    y_true = tf.gather(y_true, idx_p, axis=-1)\n",
        "    y_pred = tf.gather(y_pred, idx_p, axis=-1)\n",
        "    loss = tf.losses.binary_crossentropy(y_true, y_pred)\n",
        "    return tf.reduce_sum(loss)\n",
        "\n",
        "@tf.function\n",
        "def loss_cls(y_true, y_pred):\n",
        "    y_true = tf.gather(y_true, idx_cls, axis=-1)\n",
        "    y_pred = tf.gather(y_pred, idx_cls, axis=-1)\n",
        "    loss = tf.losses.binary_crossentropy(y_true, y_pred)\n",
        "    return tf.reduce_sum(loss)\n",
        "\n",
        "\n",
        "@tf.function\n",
        "def loss_func(y_true, y_pred):\n",
        "    return loss_bb(y_true, y_pred) + loss_p(y_true, y_pred) + loss_cls(y_true, y_pred)\n",
        "\n",
        "opt = tf.keras.optimizers.Adam(learning_rate=0.003)\n",
        "model.compile(loss=loss_func, optimizer=opt)\n",
        "\n",
        "\n"
      ],
      "metadata": {
        "id": "b1Nsc7GmKqxE"
      },
      "execution_count": 6,
      "outputs": []
    },
    {
      "cell_type": "code",
      "source": [
        "def preview(numbers=None, threshold=0.1):\n",
        "    X, y = make_data(size=1)\n",
        "    y = model.predict(X)\n",
        "    show_predict(X[0], y[0], threshold=threshold)\n",
        "\n",
        "preview()\n"
      ],
      "metadata": {
        "colab": {
          "base_uri": "https://localhost:8080/"
        },
        "id": "qKmb_crCLWfL",
        "outputId": "fc5958df-2728-4c3b-c43a-f77f83f8cd42"
      },
      "execution_count": 7,
      "outputs": [
        {
          "output_type": "stream",
          "name": "stdout",
          "text": [
            "1/1 [==============================] - 1s 580ms/step\n"
          ]
        }
      ]
    },
    {
      "cell_type": "code",
      "source": [
        "batch_size = 32\n",
        "X_train, y_train = make_data(size=batch_size * 400)\n"
      ],
      "metadata": {
        "id": "h0IhOtZOLfEG"
      },
      "execution_count": 8,
      "outputs": []
    },
    {
      "cell_type": "code",
      "source": [
        "model.fit(X_train, y_train, batch_size=batch_size, epochs=30, shuffle=True)"
      ],
      "metadata": {
        "id": "SwKiD_htLnnG"
      },
      "execution_count": null,
      "outputs": []
    },
    {
      "cell_type": "code",
      "source": [
        " preview(threshold=0.7)"
      ],
      "metadata": {
        "id": "N-9IHLKwLryk"
      },
      "execution_count": null,
      "outputs": []
    }
  ]
}
